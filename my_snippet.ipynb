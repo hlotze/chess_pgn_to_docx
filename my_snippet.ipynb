{
 "cells": [
  {
   "cell_type": "code",
   "execution_count": null,
   "metadata": {},
   "outputs": [],
   "source": [
    "import docx as docx\n",
    "print(docx.__version__)"
   ]
  },
  {
   "cell_type": "markdown",
   "metadata": {},
   "source": [
    "### DOCX generation"
   ]
  },
  {
   "cell_type": "code",
   "execution_count": null,
   "metadata": {},
   "outputs": [],
   "source": [
    "from docx import Document\n",
    "#from docx.shared import Inches\n",
    "\n",
    "import codecs\n",
    "\n",
    "\n",
    "document = Document()\n",
    "\n",
    "document.add_heading('Document Title', 0)\n",
    "\n",
    "p = document.add_paragraph('A plain paragraph having some ')\n",
    "p.add_run('bold').bold = True\n",
    "p.add_run(' and some ')\n",
    "p.add_run('italic.').italic = True\n",
    "\n",
    "document.add_heading('Heading, level 1', level=1)\n",
    "document.add_paragraph('Intense quote', style='Intense Quote')\n",
    "\n",
    "document.add_paragraph(\n",
    "    'first item in unordered list', style='List Bullet'\n",
    ")\n",
    "document.add_paragraph(\n",
    "    'first item in ordered list', style='List Number'\n",
    ")\n",
    "\n",
    "\n",
    "\n",
    "records = (\n",
    "    (3, '101', 'Spam'),\n",
    "    (7, '422', 'Eggs'),\n",
    "    (4, '631', 'Spam, spam, eggs, and spam')\n",
    ")\n",
    "\n",
    "table = document.add_table(rows=1, cols=3)\n",
    "hdr_cells = table.rows[0].cells\n",
    "hdr_cells[0].text = codecs.decode(\n",
    "        b'\\xf9\\xfa\\xfa\\xfa\\xfa\\xfa\\xfa\\xfa\\xfa\\xfb\\n'\n",
    "        b'\\xd8\\xe4\\xe3\\xe0\\xe7\\xe8\\xe1\\xe2\\xe5\\xcc\\n'+\n",
    "        b'\\xd7\\xeb\\xea\\xeb\\xea\\xeb\\xea\\xeb\\xea\\xcc\\n'+\n",
    "        b'\\xd6\\x23\\x20\\x23\\x20\\x23\\x20\\x23\\x20\\xcc\\n'+\n",
    "        b'\\xd5\\x20\\x23\\x20\\x23\\x20\\x23\\x20\\x23\\xcc\\n'+\n",
    "        b'\\xd4\\x23\\x20\\x23\\x20\\x23\\x20\\x23\\x20\\xcc\\n'+\n",
    "        b'\\xd3\\x20\\x23\\x20\\x23\\x20\\x23\\x20\\x23\\xcc\\n'+\n",
    "        b'\\xd2\\xca\\xcb\\xca\\xcb\\xca\\xcb\\xca\\xcb\\xcc\\n'+\n",
    "        b'\\xd1\\xc5\\xc2\\xc1\\xc6\\xc9\\xc0\\xc3\\xc4\\xcc\\n'+\n",
    "        b'\\xd9\\xf1\\xf2\\xf3\\xf4\\xf5\\xf6\\xf7\\xf8\\xdb\\n', \n",
    "        'iso-8859-9')\n",
    "hdr_cells[1].text = 'Id'\n",
    "hdr_cells[2].text = 'Desc'\n",
    "for qty, id, desc in records:\n",
    "    row_cells = table.add_row().cells\n",
    "    row_cells[0].text = str(qty)\n",
    "    row_cells[1].text = id\n",
    "    row_cells[2].text = desc\n",
    "\n",
    "document.add_page_break()\n",
    "document.add_heading('Document Title', 0)\n",
    "\n",
    "document.save('demo.docx')\n"
   ]
  },
  {
   "cell_type": "markdown",
   "metadata": {},
   "source": [
    "### de-coding of binary TTF chars"
   ]
  },
  {
   "cell_type": "code",
   "execution_count": null,
   "metadata": {},
   "outputs": [],
   "source": [
    "import codecs\n",
    "print(codecs.decode(b'\\xf1\\xf2\\xf3\\xf4', 'iso-8859-9') )"
   ]
  },
  {
   "cell_type": "code",
   "execution_count": null,
   "metadata": {},
   "outputs": [],
   "source": []
  }
 ],
 "metadata": {
  "interpreter": {
   "hash": "737a1c2d8f79361346dcd3b119b98d3c2d61e3b436b9a1e9399f317ae454e9b2"
  },
  "kernelspec": {
   "display_name": "Python 3.6.13 64-bit ('py37': conda)",
   "language": "python",
   "name": "python3"
  },
  "language_info": {
   "codemirror_mode": {
    "name": "ipython",
    "version": 3
   },
   "file_extension": ".py",
   "mimetype": "text/x-python",
   "name": "python",
   "nbconvert_exporter": "python",
   "pygments_lexer": "ipython3",
   "version": "3.9.7"
  },
  "orig_nbformat": 4
 },
 "nbformat": 4,
 "nbformat_minor": 2
}
